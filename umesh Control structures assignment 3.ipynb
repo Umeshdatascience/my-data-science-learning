{
 "cells": [
  {
   "cell_type": "markdown",
   "id": "6b3df9e6",
   "metadata": {},
   "source": [
    "# Exercise: Grade Calculator\n",
    "\n",
    "Write a program that asks the user to enter the marks for three subjects: Math, Science, and English. The program should calculate the average mark and determine the corresponding grade based on the following grading scale:\n",
    "\n",
    "- Average Mark >= 90: Grade A\n",
    "- Average Mark >= 80: Grade B\n",
    "- Average Mark >= 70: Grade C\n",
    "- Average Mark >= 60: Grade D\n",
    "- Average Mark < 60: Grade F\n",
    "\n",
    "The program should then display the average mark and the corresponding grade to the user."
   ]
  },
  {
   "cell_type": "markdown",
   "id": "244485e3",
   "metadata": {},
   "source": [
    "Below you will see the code along with comment in one line.\n",
    "\n",
    "Your Task is to write in description using multiline comment.\n",
    "\n",
    "Remember # is used for single line comment\n",
    "\"\"\" Quote is used for multiline comment\"\"\""
   ]
  },
  {
   "cell_type": "code",
   "execution_count": 1,
   "id": "25aabe7d",
   "metadata": {},
   "outputs": [
    {
     "name": "stdin",
     "output_type": "stream",
     "text": [
      "Enter the mark for Math:  89\n",
      "Enter the mark for Science:  90\n",
      "Enter the mark for English:  97\n"
     ]
    },
    {
     "name": "stdout",
     "output_type": "stream",
     "text": [
      "Average Mark: 92.0\n",
      "Grade: A\n"
     ]
    }
   ],
   "source": [
    "\n",
    "\n",
    "# Grade Calculator\n",
    "\n",
    "# Input marks for Math, Science, and English\n",
    "\n",
    "# Q1. What is the purpose of input in this context?\n",
    "math_mark = int(input(\"Enter the mark for Math: \"))\n",
    "\"\"\"input helps to create dialogue box\"\"\"\n",
    "\n",
    "# Q2. What is the default data type when we use input() statement?\n",
    "science_mark = int(input(\"Enter the mark for Science: \"))\n",
    "\"\"\"string\"\"\"\n",
    "# Q3. What is the purpose of int() in this context?\n",
    "english_mark = int(input(\"Enter the mark for English: \"))\n",
    "\"\"\"to convert value into integer data type\"\"\"\n",
    "\n",
    "\n",
    "# Q4. What does the round function do here?\n",
    "\n",
    "# Calculate the average mark\n",
    "average_mark = round((math_mark + science_mark + english_mark) / 3.0, 3)  # Rounds to 2 decimal places\n",
    "average_mark = round((89+90+97) /3.0, 3)\n",
    "\"\"\"round 3 means it give three digit after point.\"\"\"\n",
    "\n",
    "\n",
    "# Q5.  In which condition does the student receive a grade of \"C\"?\n",
    "\"\"\"Avergae mark>=70\"\"\"\n",
    "# Determine the grade based on the average mark\n",
    "if average_mark >= 90:\n",
    "    grade = \"A\"\n",
    "elif average_mark >= 80:\n",
    "    grade = \"B\"\n",
    "elif average_mark >= 70:\n",
    "    grade = \"C\"\n",
    "elif average_mark >= 60:\n",
    "    grade = \"D\"\n",
    "else:\n",
    "    grade = \"F\"\n",
    "    \n",
    "    \n",
    "# Q6.  Does this print statement runs even if average_mark is <20?\n",
    "\"\"\"No\"\"\"\n",
    "# Display the average mark and the grade\n",
    "print(\"Average Mark:\", average_mark)\n",
    "print(\"Grade:\", grade)\n"
   ]
  },
  {
   "cell_type": "code",
   "execution_count": 3,
   "id": "9b2d1f8c",
   "metadata": {},
   "outputs": [
    {
     "name": "stdout",
     "output_type": "stream",
     "text": [
      "(92.0, 3)\n"
     ]
    }
   ],
   "source": [
    "average_mark = ((89+90+97)/3, 3)\n",
    "print(average_mark)"
   ]
  },
  {
   "cell_type": "code",
   "execution_count": null,
   "id": "764a1391-9c22-4e74-8c28-572acb3d2509",
   "metadata": {},
   "outputs": [],
   "source": []
  }
 ],
 "metadata": {
  "kernelspec": {
   "display_name": "Python 3 (ipykernel)",
   "language": "python",
   "name": "python3"
  },
  "language_info": {
   "codemirror_mode": {
    "name": "ipython",
    "version": 3
   },
   "file_extension": ".py",
   "mimetype": "text/x-python",
   "name": "python",
   "nbconvert_exporter": "python",
   "pygments_lexer": "ipython3",
   "version": "3.11.7"
  }
 },
 "nbformat": 4,
 "nbformat_minor": 5
}
