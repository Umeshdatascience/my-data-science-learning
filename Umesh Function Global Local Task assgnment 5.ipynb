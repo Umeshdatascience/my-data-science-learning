{
 "cells": [
  {
   "cell_type": "markdown",
   "id": "d83568fc",
   "metadata": {},
   "source": [
    "![img](https://global-uploads.webflow.com/5f81ff43a0e73644b42c3063/63beda9fa32dae859f01b203_image%20-%202023-01-11T193923.859.png)"
   ]
  },
  {
   "cell_type": "markdown",
   "id": "2cf8928f",
   "metadata": {},
   "source": [
    "# Study this code and answer following"
   ]
  },
  {
   "cell_type": "code",
   "execution_count": 1,
   "id": "82d22229",
   "metadata": {},
   "outputs": [
    {
     "name": "stdout",
     "output_type": "stream",
     "text": [
      "Before calling the function, count = 10\n",
      "Inside the function, count = 6\n",
      "After calling the function, count = 10\n"
     ]
    }
   ],
   "source": [
    "# Global variable\n",
    "count = 10\n",
    "\n",
    "def increment():\n",
    "    # Local variable\n",
    "    count = 5\n",
    "    count += 1\n",
    "    print(\"Inside the function, count =\", count)\n",
    "\n",
    "print(\"Before calling the function, count =\", count)\n",
    "increment()\n",
    "print(\"After calling the function, count =\", count)\n"
   ]
  },
  {
   "cell_type": "markdown",
   "id": "eb5888ba",
   "metadata": {},
   "source": [
    "# Q1. What will be the output of the code before calling the increment function?\n"
   ]
  },
  {
   "cell_type": "code",
   "execution_count": 2,
   "id": "54e820c2",
   "metadata": {},
   "outputs": [],
   "source": [
    "# Q1\n",
    "Ans: Before calling the increment function global ie 'count' is printed which is 10.\n",
    "\n",
    "\n"
   ]
  },
  {
   "cell_type": "markdown",
   "id": "54df224a",
   "metadata": {},
   "source": [
    "# Q2: What will be the output of the code inside the increment function?"
   ]
  },
  {
   "cell_type": "code",
   "execution_count": 5,
   "id": "0e596bc8",
   "metadata": {},
   "outputs": [],
   "source": [
    "# Q2 \n",
    "Ans: Inside the function, the local count is printed, which is 6.\n"
   ]
  },
  {
   "cell_type": "markdown",
   "id": "8ab13bad",
   "metadata": {},
   "source": [
    "# Q3: What will be the output of the code after calling the increment function?"
   ]
  },
  {
   "cell_type": "code",
   "execution_count": 6,
   "id": "adb4a01a",
   "metadata": {},
   "outputs": [],
   "source": [
    "# Q3 \n",
    "Ans: After calling the increment function, global 'count' ie 10 is printed.\n"
   ]
  },
  {
   "cell_type": "markdown",
   "id": "b9479b91",
   "metadata": {},
   "source": [
    "# Q4: Explain why the value of count does not change outside the function after calling increment?"
   ]
  },
  {
   "cell_type": "code",
   "execution_count": 7,
   "id": "e16c11b7",
   "metadata": {},
   "outputs": [],
   "source": [
    "# Q4\n",
    "Ans: because the local variable inside the function does not affect the global variable."
   ]
  },
  {
   "cell_type": "markdown",
   "id": "68ec0e37",
   "metadata": {},
   "source": [
    "# Q5: How would you modify the increment function to change the value of the global count variable?"
   ]
  },
  {
   "cell_type": "code",
   "execution_count": 9,
   "id": "4ce28dd1",
   "metadata": {},
   "outputs": [],
   "source": [
    "# Q5\n",
    "Ans: If we add word 'global' before the word count as 'global count' then we can run the global variable count=10 then the outcome is like this:\n",
    "Before calling the function, count = 10\n",
    "Inside the function, count = 11\n",
    "After calling the function, count = 11\n"
   ]
  },
  {
   "cell_type": "code",
   "execution_count": null,
   "id": "28235d67",
   "metadata": {},
   "outputs": [],
   "source": []
  }
 ],
 "metadata": {
  "kernelspec": {
   "display_name": "Python 3 (ipykernel)",
   "language": "python",
   "name": "python3"
  },
  "language_info": {
   "codemirror_mode": {
    "name": "ipython",
    "version": 3
   },
   "file_extension": ".py",
   "mimetype": "text/x-python",
   "name": "python",
   "nbconvert_exporter": "python",
   "pygments_lexer": "ipython3",
   "version": "3.11.7"
  }
 },
 "nbformat": 4,
 "nbformat_minor": 5
}
