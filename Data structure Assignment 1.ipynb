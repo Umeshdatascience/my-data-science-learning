{
 "cells": [
  {
   "cell_type": "markdown",
   "id": "7c6627e5",
   "metadata": {},
   "source": [
    "## Data Structure Task\n",
    "![](https://devopedia.org/images/article/41/8174.1595680354.png)\n",
    "\n",
    "\n",
    "\n"
   ]
  },
  {
   "cell_type": "markdown",
   "id": "21cf4040",
   "metadata": {},
   "source": [
    "# List"
   ]
  },
  {
   "cell_type": "code",
   "execution_count": 5,
   "id": "80157d46",
   "metadata": {},
   "outputs": [
    {
     "ename": "NameError",
     "evalue": "name 'fruit_list' is not defined",
     "output_type": "error",
     "traceback": [
      "\u001b[1;31m---------------------------------------------------------------------------\u001b[0m",
      "\u001b[1;31mNameError\u001b[0m                                 Traceback (most recent call last)",
      "Cell \u001b[1;32mIn[5], line 7\u001b[0m\n\u001b[0;32m      3\u001b[0m fruit_list: [\u001b[38;5;124m\"\u001b[39m\u001b[38;5;124mapple\u001b[39m\u001b[38;5;124m\"\u001b[39m , \u001b[38;5;124m\"\u001b[39m\u001b[38;5;124mguava\u001b[39m\u001b[38;5;124m\"\u001b[39m , \u001b[38;5;124m\"\u001b[39m\u001b[38;5;124mmango\u001b[39m\u001b[38;5;124m\"\u001b[39m , \u001b[38;5;124m\"\u001b[39m\u001b[38;5;124mlitchi\u001b[39m\u001b[38;5;124m\"\u001b[39m]\n\u001b[0;32m      5\u001b[0m \u001b[38;5;66;03m# Access: Access the second item in the list.\u001b[39;00m\n\u001b[1;32m----> 7\u001b[0m fruit_list [\u001b[38;5;241m2\u001b[39m]\n\u001b[0;32m      9\u001b[0m \u001b[38;5;66;03m# Update: Change the third item to \"orange\".\u001b[39;00m\n\u001b[0;32m     10\u001b[0m tempfruit_list[\u001b[38;5;241m3\u001b[39m]\u001b[38;5;241m=\u001b[39m\u001b[38;5;124m\"\u001b[39m\u001b[38;5;124morange\u001b[39m\u001b[38;5;124m\"\u001b[39m\n",
      "\u001b[1;31mNameError\u001b[0m: name 'fruit_list' is not defined"
     ]
    }
   ],
   "source": [
    "# Creation: Create a list of your favorite fruits\n",
    "\n",
    "fruit_list: [\"apple\" , \"guava\" , \"mango\" , \"litchi\"]\n",
    "\n",
    "# Access: Access the second item in the list.\n",
    "\n",
    "fruit_list [2]\n",
    "\n",
    "# Update: Change the third item to \"orange\".\n",
    "tempfruit_list[3]=\"orange\"\n",
    "\n",
    "#Remove: Remove the first item from the list.\n",
    "fruit_list.remove (\"apple\")"
   ]
  },
  {
   "cell_type": "markdown",
   "id": "060b720b",
   "metadata": {},
   "source": [
    "# Tuples"
   ]
  },
  {
   "cell_type": "code",
   "execution_count": 3,
   "id": "2b40264b",
   "metadata": {},
   "outputs": [
    {
     "ename": "NameError",
     "evalue": "name 'color_list' is not defined",
     "output_type": "error",
     "traceback": [
      "\u001b[1;31m---------------------------------------------------------------------------\u001b[0m",
      "\u001b[1;31mNameError\u001b[0m                                 Traceback (most recent call last)",
      "Cell \u001b[1;32mIn[3], line 6\u001b[0m\n\u001b[0;32m      3\u001b[0m color_list : (\u001b[38;5;124m\"\u001b[39m\u001b[38;5;124mwhite\u001b[39m\u001b[38;5;124m\"\u001b[39m , \u001b[38;5;124m\"\u001b[39m\u001b[38;5;124mgreen\u001b[39m\u001b[38;5;124m\"\u001b[39m , \u001b[38;5;124m\"\u001b[39m\u001b[38;5;124myellow\u001b[39m\u001b[38;5;124m\"\u001b[39m)\n\u001b[0;32m      4\u001b[0m \u001b[38;5;66;03m# Access: Access the third item in the tuple.\u001b[39;00m\n\u001b[1;32m----> 6\u001b[0m color_list [\u001b[38;5;241m2\u001b[39m]\n",
      "\u001b[1;31mNameError\u001b[0m: name 'color_list' is not defined"
     ]
    }
   ],
   "source": [
    "# Creation: Create a tuple with three different colors.\n",
    "\n",
    "color_list : (\"white\" , \"green\" , \"yellow\")\n",
    "# Access: Access the third item in the tuple.\n",
    "\n",
    "color_list [2]\n",
    "# Update: Try to change the second item to \"yellow\" and observe what happens. Expect something error\n",
    "# tuples is unmutable.\n",
    "\n",
    "# Remove: Give reason why you can or can't\n",
    "#tuples is unmutable.\n"
   ]
  },
  {
   "cell_type": "markdown",
   "id": "d9af3178",
   "metadata": {},
   "source": [
    "# SET"
   ]
  },
  {
   "cell_type": "code",
   "execution_count": 15,
   "id": "c38b08db",
   "metadata": {},
   "outputs": [
    {
     "ename": "NameError",
     "evalue": "name 'my_set_favmovies' is not defined",
     "output_type": "error",
     "traceback": [
      "\u001b[1;31m---------------------------------------------------------------------------\u001b[0m",
      "\u001b[1;31mNameError\u001b[0m                                 Traceback (most recent call last)",
      "Cell \u001b[1;32mIn[15], line 3\u001b[0m\n\u001b[0;32m      1\u001b[0m \u001b[38;5;66;03m# Creation: Create a set of your favorite movies\u001b[39;00m\n\u001b[0;32m      2\u001b[0m my_set_favmovies : {\u001b[38;5;124m\"\u001b[39m\u001b[38;5;124mapocalypto\u001b[39m\u001b[38;5;124m\"\u001b[39m, \u001b[38;5;241m300\u001b[39m , \u001b[38;5;124m\"\u001b[39m\u001b[38;5;124mdidi\u001b[39m\u001b[38;5;124m\"\u001b[39m, \u001b[38;5;124m\"\u001b[39m\u001b[38;5;124mjatra\u001b[39m\u001b[38;5;124m\"\u001b[39m}\n\u001b[1;32m----> 3\u001b[0m \u001b[38;5;28mprint\u001b[39m(my_set_favmovies)\n\u001b[0;32m      5\u001b[0m \u001b[38;5;66;03m# Access: Check if your \"Toy Car\" is in the set.\u001b[39;00m\n\u001b[0;32m      7\u001b[0m \u001b[38;5;28mprint\u001b[39m (\u001b[38;5;241m300\u001b[39m)\n",
      "\u001b[1;31mNameError\u001b[0m: name 'my_set_favmovies' is not defined"
     ]
    }
   ],
   "source": [
    "# Creation: Create a set of your favorite movies\n",
    "my_set_favmovies : {\"apocalypto\", 300 , \"didi\", \"jatra\"}\n",
    "print(my_set_favmovies)\n",
    "\n",
    "# Access: Check if your \"Toy Car\" is in the set.\n",
    "\n",
    "print (300)\n",
    "print (\"Toy Car\" in my_set_favmovies)\n",
    "\n",
    "# Update: Add \"Miracle in Cell\" to the set.\n",
    "my_set_favmovies.add(\"Miracle in Cell\")\n",
    "\n",
    "# Remove: Remove your least favorite movies.\n",
    "my_set_favmovies.remove(\"didi\")"
   ]
  },
  {
   "cell_type": "markdown",
   "id": "77344d89",
   "metadata": {},
   "source": [
    "# Dictionary"
   ]
  },
  {
   "cell_type": "code",
   "execution_count": 19,
   "id": "02ece1f6",
   "metadata": {},
   "outputs": [
    {
     "ename": "SyntaxError",
     "evalue": "invalid syntax (251299188.py, line 10)",
     "output_type": "error",
     "traceback": [
      "\u001b[1;36m  Cell \u001b[1;32mIn[19], line 10\u001b[1;36m\u001b[0m\n\u001b[1;33m    my_dict.update(\"city\":\"ktm\" to \"los Angeles\")\u001b[0m\n\u001b[1;37m                         ^\u001b[0m\n\u001b[1;31mSyntaxError\u001b[0m\u001b[1;31m:\u001b[0m invalid syntax\n"
     ]
    }
   ],
   "source": [
    "# Creation: Create a dictionary with three key-value pairs representing a person's details (e.g., name, age, city).\n",
    "my_dict : {\"name\": \"yuv\", \"age\": 7 , \"city\": \"ktm\"}\n",
    "print (my_dict)\n",
    "\n",
    "# Access: Access the person's age.\n",
    "print (my_dict[\"age\"])\n",
    "\n",
    "\n",
    "# Update: Update the person's city to \"Los Angeles\".\n",
    "my_dict.update(\"city\":\"ktm\" to \"los Angeles\")\n",
    "\n",
    "# Remove: Remove the age key-value pair from the dictionary.\n",
    "my_dict.remove(\"age\")"
   ]
  },
  {
   "cell_type": "markdown",
   "id": "500d56c1",
   "metadata": {},
   "source": [
    "# List Compression"
   ]
  },
  {
   "cell_type": "code",
   "execution_count": 20,
   "id": "24463269",
   "metadata": {},
   "outputs": [],
   "source": [
    "# Create a list of squares of numbers from 1 t\n",
    "??"
   ]
  },
  {
   "cell_type": "code",
   "execution_count": 2,
   "id": "045e1139",
   "metadata": {},
   "outputs": [
    {
     "name": "stdout",
     "output_type": "stream",
     "text": [
      "['HELLO', 'WORLD', 'PYTHON', 'LIST', 'COMPREHENSION']\n"
     ]
    }
   ],
   "source": [
    "# Explain in the markdown what is happening in this code\n",
    "??\n",
    "words = [\"hello\", \"world\", \"python\", \"list\", \"comprehension\"]\n",
    "uppercase_words = [word.upper() for word in words]\n",
    "print(uppercase_words)"
   ]
  },
  {
   "cell_type": "markdown",
   "id": "ba2862ba",
   "metadata": {},
   "source": [
    "> Submit to the email"
   ]
  },
  {
   "cell_type": "markdown",
   "id": "ec934c15",
   "metadata": {},
   "source": [
    "Recommended Reading\n",
    "\n",
    "https://www.stationx.net/python-data-structures-cheat-sheet/"
   ]
  },
  {
   "cell_type": "code",
   "execution_count": null,
   "id": "14f2d037",
   "metadata": {},
   "outputs": [],
   "source": []
  }
 ],
 "metadata": {
  "kernelspec": {
   "display_name": "Python 3 (ipykernel)",
   "language": "python",
   "name": "python3"
  },
  "language_info": {
   "codemirror_mode": {
    "name": "ipython",
    "version": 3
   },
   "file_extension": ".py",
   "mimetype": "text/x-python",
   "name": "python",
   "nbconvert_exporter": "python",
   "pygments_lexer": "ipython3",
   "version": "3.11.7"
  }
 },
 "nbformat": 4,
 "nbformat_minor": 5
}
