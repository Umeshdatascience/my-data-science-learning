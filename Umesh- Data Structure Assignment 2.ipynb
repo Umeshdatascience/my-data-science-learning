{
 "cells": [
  {
   "cell_type": "markdown",
   "id": "7c6627e5",
   "metadata": {},
   "source": [
    "## Data Structure Methods \n",
    "\n",
    "\n",
    "![](https://devopedia.org/images/article/41/8174.1595680354.png)\n",
    "\n",
    "\n",
    "Python provides various built-in data structures, each with its own set of methods for manipulating and accessing data.\n",
    "\n",
    "Here are the common methods for the main Python data structures that we will try out. \n",
    "\n",
    "\n"
   ]
  },
  {
   "cell_type": "markdown",
   "id": "8c6079f7",
   "metadata": {},
   "source": [
    "# List Methods\n",
    "\n",
    "- **append(x)**: Adds an item to the end of the list.\n",
    "- **extend(iterable)**: Extends the list by adding all items from an iterable (list, range, etc.).\n",
    "- **insert(i, x)**: Inserts an item at a given position *i*.\n",
    "- **remove(x)**: Removes the first item from the list whose value is *x*.\n",
    "- **pop([i])**: Removes the item at the given position *i* and returns it. If no index is specified, it removes and returns the last item.\n",
    "- **index(x)**: Returns the index of the first item whose value is *x*.\n",
    "- **count(x)**: Returns the number of times *x* appears in the list.\n",
    "- **sort(key=..., reverse=...)**: Sorts the items of the list in place.\n",
    "- **reverse()**: Reverses the elements of the list in place.\n",
    "\n",
    "# Dictionary Methods\n",
    "\n",
    "- **keys()**: Returns a view object containing the dictionary's keys.\n",
    "- **values()**: Returns a view object containing the dictionary's values.\n",
    "- **items()**: Returns a view object containing the dictionary's key-value pairs.\n",
    "- **get(key, default=None)**: Returns the value for *key* if *key* is in the dictionary, else *default*.\n",
    "- **pop(key, default)**: Removes the key-value pair with the given *key* and returns the value. If *key* is not found, it returns *default*.\n",
    "- **update(dict2)**: Updates the dictionary with the key-value pairs from *dict2*.\n",
    "\n",
    "# Set Methods\n",
    "\n",
    "- **add(elem)**: Adds an element to the set.\n",
    "- **remove(elem)**: Removes the element from the set. Raises a `KeyError` if *elem* is not contained in the set.\n",
    "- **discard(elem)**: Removes the element from the set if it is present.\n",
    "- **pop()**: Removes and returns an arbitrary element from the set.\n",
    "- **union(set2)**: Returns a new set with elements from both sets.\n",
    "- **intersection(set2)**: Returns a new set with elements common to both sets.\n",
    "- **difference(set2)**: Returns a new set with elements in the set that are not in *set2*.\n",
    "\n",
    "# Tuple Methods\n",
    "\n",
    "Tuples are immutable, so they have fewer methods compared to lists:\n",
    "\n",
    "- **count(x)**: Returns the number of times *x* appears in the tuple.\n",
    "- **index(x)**: Returns the index of the first item whose value is *x*.\n"
   ]
  },
  {
   "cell_type": "markdown",
   "id": "c5d16328",
   "metadata": {},
   "source": [
    "### Recommended Reading\n",
    "\n",
    "https://www.stationx.net/python-data-structures-cheat-sheet/\n",
    "### You can get more about this methods into documentation\n",
    "https://docs.python.org/3/tutorial/datastructures.html\n",
    "\n",
    "> Remember, in order to show to the screen, you need to use print() statement"
   ]
  },
  {
   "cell_type": "markdown",
   "id": "21cf4040",
   "metadata": {},
   "source": [
    "# List"
   ]
  },
  {
   "cell_type": "code",
   "execution_count": 8,
   "id": "80157d46",
   "metadata": {},
   "outputs": [
    {
     "ename": "NameError",
     "evalue": "name 'θ' is not defined",
     "output_type": "error",
     "traceback": [
      "\u001b[1;31m---------------------------------------------------------------------------\u001b[0m",
      "\u001b[1;31mNameError\u001b[0m                                 Traceback (most recent call last)",
      "Cell \u001b[1;32mIn[8], line 14\u001b[0m\n\u001b[0;32m     10\u001b[0m fruits[\u001b[38;5;241m2\u001b[39m] \u001b[38;5;241m=\u001b[39m \u001b[38;5;124m\"\u001b[39m\u001b[38;5;124morange\u001b[39m\u001b[38;5;124m\"\u001b[39m\n\u001b[0;32m     13\u001b[0m \u001b[38;5;66;03m# Remove: Remove the first item from the list.\u001b[39;00m\n\u001b[1;32m---> 14\u001b[0m fruits\u001b[38;5;241m.\u001b[39mpop(θ) \u001b[38;5;66;03m#using pop method\u001b[39;00m\n\u001b[0;32m     16\u001b[0m \u001b[38;5;66;03m# Extend your list with the new fruits and print the updated list.\u001b[39;00m\n\u001b[0;32m     17\u001b[0m fruits\u001b[38;5;241m.\u001b[39mextend([\u001b[38;5;124m\"\u001b[39m\u001b[38;5;124mstrawberry\u001b[39m\u001b[38;5;124m\"\u001b[39m , \u001b[38;5;124m\"\u001b[39m\u001b[38;5;124mgrape\u001b[39m\u001b[38;5;124m\"\u001b[39m])\n",
      "\u001b[1;31mNameError\u001b[0m: name 'θ' is not defined"
     ]
    }
   ],
   "source": [
    "# Creation: Create a list of your favorite fruits # Fruits can be - \"apple\", \"banana\", \"cherry\", \"date\", \"elderberry\"\n",
    "fruits = [\"apple\" , \"banana\" , \"dates\" , \"guava\" , \"berry\"]\n",
    "\n",
    "\n",
    "# Access: Access the second item in the list.\n",
    "second_fruit = fruits[1]\n",
    "\n",
    "\n",
    "# Update: Change the third item to \"orange\".\n",
    "fruits[2] = \"orange\"\n",
    "\n",
    "\n",
    "# Remove: Remove the first item from the list.\n",
    "fruits.pop(0) #using pop method\n",
    "\n",
    "# Extend your list with the new fruits and print the updated list.\n",
    "fruits.extend([\"strawberry\" , \"grape\"])\n",
    "prints(fruits)\n",
    "\n",
    "# Insert \"kiwi\" at the second position in your list and print the updated list.\n",
    "fruits.insert(1, \"kiwi\")\n",
    "print(updated)\n",
    "\n",
    "\n",
    "# Count and print the number of times \"apple\" appears in your list.\n",
    "apple_count = fruits.count(\"apple\")\n",
    "print(apple_count)\n",
    "\n",
    "\n",
    "# Reverse the order of your list and print the reversed list.\n",
    "fruits.reverse()\n",
    "print(fruits.reverse)\n",
    "\n",
    "# Sort the list in alphabetical order.\n",
    "fruits.sort()"
   ]
  },
  {
   "cell_type": "markdown",
   "id": "060b720b",
   "metadata": {},
   "source": [
    "# Tuples"
   ]
  },
  {
   "cell_type": "code",
   "execution_count": 12,
   "id": "2b40264b",
   "metadata": {},
   "outputs": [
    {
     "name": "stdout",
     "output_type": "stream",
     "text": [
      "dates\n"
     ]
    },
    {
     "ename": "TypeError",
     "evalue": "'tuple' object does not support item assignment",
     "output_type": "error",
     "traceback": [
      "\u001b[1;31m---------------------------------------------------------------------------\u001b[0m",
      "\u001b[1;31mTypeError\u001b[0m                                 Traceback (most recent call last)",
      "Cell \u001b[1;32mIn[12], line 9\u001b[0m\n\u001b[0;32m      5\u001b[0m \u001b[38;5;28mprint\u001b[39m(fruit_tuple[\u001b[38;5;241m2\u001b[39m])\n\u001b[0;32m      8\u001b[0m \u001b[38;5;66;03m# Update: Try to change the second item to \"yellow\" and observe what happens. Expect something error\u001b[39;00m\n\u001b[1;32m----> 9\u001b[0m fruit_tuple[\u001b[38;5;241m2\u001b[39m] \u001b[38;5;241m=\u001b[39m \u001b[38;5;124m\"\u001b[39m\u001b[38;5;124myellow\u001b[39m\u001b[38;5;124m\"\u001b[39m\n\u001b[0;32m     10\u001b[0m \u001b[38;5;28mprint\u001b[39m(fruit_tuple)\n",
      "\u001b[1;31mTypeError\u001b[0m: 'tuple' object does not support item assignment"
     ]
    }
   ],
   "source": [
    "# Creation: Create a tuple with four different fruits\n",
    "fruit_tuple = (\"apple\" , \"banana\" , \"dates\" , \"guava\" , \"berry\")\n",
    "\n",
    "# Access: Access and print the third item in the tuple.\n",
    "print(fruit_tuple[2])\n",
    "\n",
    "\n",
    "# Update: Try to change the second item to \"yellow\" and observe what happens. Expect something error\n",
    "fruit_tuple[2] = \"yellow\"\n",
    "print(fruit_tuple)\n",
    "\n",
    "# Remove: Give reason why you can or can't\n",
    "#the items inside in tuples is immutable.\n",
    "\n",
    "# Find the index of \"yellow\" in the tuple using index method and print it.\n",
    "#there is no yellow in the list above."
   ]
  },
  {
   "cell_type": "markdown",
   "id": "d9af3178",
   "metadata": {},
   "source": [
    "# SET"
   ]
  },
  {
   "cell_type": "code",
   "execution_count": 21,
   "id": "c38b08db",
   "metadata": {},
   "outputs": [
    {
     "name": "stdout",
     "output_type": "stream",
     "text": [
      "False\n",
      "{'berry', 'dates', 'apple', 'guava', 'Mango'}\n"
     ]
    },
    {
     "ename": "TypeError",
     "evalue": "set.pop() takes no arguments (1 given)",
     "output_type": "error",
     "traceback": [
      "\u001b[1;31m---------------------------------------------------------------------------\u001b[0m",
      "\u001b[1;31mTypeError\u001b[0m                                 Traceback (most recent call last)",
      "Cell \u001b[1;32mIn[21], line 18\u001b[0m\n\u001b[0;32m     14\u001b[0m \u001b[38;5;28mprint\u001b[39m(fruit_set)\n\u001b[0;32m     17\u001b[0m \u001b[38;5;66;03m# Pop an element from your set and print the popped element and the updated set.\u001b[39;00m\n\u001b[1;32m---> 18\u001b[0m popped_fruit \u001b[38;5;241m=\u001b[39m fruit_set\u001b[38;5;241m.\u001b[39mpop([\u001b[38;5;124m\"\u001b[39m\u001b[38;5;124mdates\u001b[39m\u001b[38;5;124m\"\u001b[39m])\n\u001b[0;32m     19\u001b[0m \u001b[38;5;28mprint\u001b[39m(fruit_set)\n\u001b[0;32m     21\u001b[0m \u001b[38;5;66;03m# Discard \"cherry\" from your set and print the updated set.\u001b[39;00m\n",
      "\u001b[1;31mTypeError\u001b[0m: set.pop() takes no arguments (1 given)"
     ]
    }
   ],
   "source": [
    "# Creation: Create a set of your favorite fruits\n",
    "fruit_set = {\"apple\" , \"banana\" , \"dates\" , \"guava\" , \"berry\"}\n",
    "\n",
    "\n",
    "# Access: Check if your \"Mango\" is in the set.\n",
    "print(\"mango\" in fruit_set)\n",
    "\n",
    "\n",
    "# Update: Add \"Mango\" to the set.\n",
    "fruit_set.add(\"Mango\")\n",
    "\n",
    "# Remove \"banana\" from your set and print the updated set.\n",
    "fruit_set.remove(\"banana\")\n",
    "print(fruit_set)\n",
    "\n",
    "\n",
    "# Pop an element from your set and print the popped element and the updated set.\n",
    "popped_fruit = fruit_set.pop([\"dates\"])\n",
    "print(fruit_set)\n",
    "\n",
    "# Discard \"cherry\" from your set and print the updated set.\n",
    "fruit_set.discard(\"guava\")\n",
    "print(fruit_set)"
   ]
  },
  {
   "cell_type": "markdown",
   "id": "77344d89",
   "metadata": {},
   "source": [
    "# Dictionary"
   ]
  },
  {
   "cell_type": "code",
   "execution_count": 12,
   "id": "02ece1f6",
   "metadata": {},
   "outputs": [
    {
     "name": "stdout",
     "output_type": "stream",
     "text": [
      "{'apple': 'red', 'banana': 'yellow', 'dates': 'brown', 'guava': 'green', 'cherry': 'dark red'}\n",
      "{'apple': 'red', 'banana': 'yellow', 'guava': 'green', 'cherry': 'dark red'}\n",
      "dict_values(['red', 'yellow', 'green', 'dark red'])\n",
      "dict_keys(['apple', 'banana', 'guava', 'cherry'])\n",
      "{'apple': 'red', 'banana': 'yellow', 'guava': 'green', 'cherry': 'dark red'}\n",
      "{'apple': 'red', 'banana': 'yellow', 'guava': 'green', 'cherry': 'dark red', 'berry': 'red', 'grape': 'green'}\n"
     ]
    }
   ],
   "source": [
    "# Create a dictionary of your favorite fruits and their colors.\n",
    "fruit_colors = {\"apple\" : \"red\" , \"banana\" : \"yellow\" , \"dates\" : \"brown\" , \"guava\" : \"green\" , \"cherry\" : \"red\"}\n",
    "\n",
    "\n",
    "# Access: Access the color of 'banana'.\n",
    "banana_color = fruit_colors[\"banana\"]\n",
    "\n",
    "\n",
    "# Update the color of \"cherry\" and print the updated dictionary.\n",
    "fruit_colors[\"cherry\"] = \"dark red\"\n",
    "print(fruit_colors)\n",
    "\n",
    "# Remove \"date\" from your dictionary and print the updated dictionary using pop method\n",
    "fruit_colors.pop(\"dates\")\n",
    "print(fruit_colors)\n",
    "\n",
    "# Print the list of all values in your dictionary\n",
    "values = fruit_colors.values()\n",
    "print(values)\n",
    "# Print the list of all keys in your dictionary.\n",
    "keys = fruit_colors.keys()\n",
    "print(keys)\n",
    "\n",
    "# Print the list of all key-value pairs in your dictionary\n",
    "items = fruit_colors.items()\n",
    "\n",
    "# Print the color of \"apple\" using the `get` method.\n",
    "apple_color = fruit_colors.get (\"apple\", \"unknown\")\n",
    "print(fruit_colors)\n",
    "\n",
    "\n",
    "\n",
    "# Update your dictionary with the new key-value pairs and print the updated dictionary.\n",
    "fruit_colors.update({\"berry\" : \"red\" , \"grape\" : \"green\"})\n",
    "print(fruit_colors)\n"
   ]
  },
  {
   "cell_type": "markdown",
   "id": "1147fb20",
   "metadata": {},
   "source": [
    "> Extra Task \n",
    "# List Compression"
   ]
  },
  {
   "cell_type": "code",
   "execution_count": 10,
   "id": "2843c7d3",
   "metadata": {},
   "outputs": [],
   "source": [
    "# Create a list of squares of numbers from 1 to 10.\n"
   ]
  },
  {
   "cell_type": "code",
   "execution_count": 11,
   "id": "0d9983ab",
   "metadata": {},
   "outputs": [
    {
     "name": "stdout",
     "output_type": "stream",
     "text": [
      "['HELLO', 'WORLD', 'PYTHON', 'LIST', 'COMPREHENSION']\n"
     ]
    }
   ],
   "source": [
    "# Explain in the markdown what is happening in this code\n",
    "\n",
    "words = [\"hello\", \"world\", \"python\", \"list\", \"comprehension\"]\n",
    "uppercase_words = [word.upper() for word in words]\n",
    "print(uppercase_words)"
   ]
  },
  {
   "cell_type": "markdown",
   "id": "9cec37a4",
   "metadata": {},
   "source": [
    "> Submit to the email"
   ]
  },
  {
   "cell_type": "markdown",
   "id": "26f5e9d2",
   "metadata": {},
   "source": [
    "Recommended Reading\n",
    "\n",
    "https://www.stationx.net/python-data-structures-cheat-sheet/"
   ]
  },
  {
   "cell_type": "code",
   "execution_count": null,
   "id": "140d6880",
   "metadata": {},
   "outputs": [],
   "source": []
  }
 ],
 "metadata": {
  "kernelspec": {
   "display_name": "Python 3 (ipykernel)",
   "language": "python",
   "name": "python3"
  },
  "language_info": {
   "codemirror_mode": {
    "name": "ipython",
    "version": 3
   },
   "file_extension": ".py",
   "mimetype": "text/x-python",
   "name": "python",
   "nbconvert_exporter": "python",
   "pygments_lexer": "ipython3",
   "version": "3.11.7"
  }
 },
 "nbformat": 4,
 "nbformat_minor": 5
}
