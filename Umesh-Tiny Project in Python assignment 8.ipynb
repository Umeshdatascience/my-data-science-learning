{
 "cells": [
  {
   "cell_type": "markdown",
   "id": "5e7107ca",
   "metadata": {},
   "source": [
    "# Tiny Project in Python: Calculator or Custom Project"
   ]
  },
  {
   "cell_type": "markdown",
   "id": "94c0efba",
   "metadata": {},
   "source": [
    "## Tiny Project Ideas in Python\n",
    "1. Calculator: Create a simple calculator that can perform basic arithmetic operations such as addition, subtraction, multiplication, and division.\n",
    "\n",
    "2. Number Guessing Game: Create a number guessing game where the computer randomly selects a number, and the user has to guess it within a certain number of tries.\n",
    "\n",
    "3. Uni Conversion:  Create a program convert between different units of measurement. like kg to gram and other\n",
    "\n",
    "4. Word Country - Count the words and print\n",
    "\n",
    "### For more see this-- https://www.trymito.io/blog/7-easy-beginner-python-project-ideas\n"
   ]
  },
  {
   "cell_type": "markdown",
   "id": "dc20a3ca",
   "metadata": {},
   "source": [
    "## Sample of word counter"
   ]
  },
  {
   "cell_type": "code",
   "execution_count": 1,
   "id": "24022520",
   "metadata": {},
   "outputs": [
    {
     "name": "stdout",
     "output_type": "stream",
     "text": [
      "Please enter your text: werewrwer\n",
      "The number of words in your text is: 1\n"
     ]
    }
   ],
   "source": [
    "\n",
    "# Function to count words in a given text\n",
    "def count_words(text):\n",
    "    \"\"\"\n",
    "    This function takes a string 'text' as input and returns\n",
    "    the number of words in the text.\n",
    "    \"\"\"\n",
    "    # Split the text into words using whitespace as the delimiter. default is space\n",
    "    words = text.split()\n",
    "    \n",
    "    # Return the length of the list of words\n",
    "    return len(words)\n",
    "\n",
    "# Main function\n",
    "def main():\n",
    "    \"\"\"\n",
    "    Main function to run the word counter program.\n",
    "    \"\"\"\n",
    "    # Prompt the user to enter a text\n",
    "    user_input = input(\"Please enter your text: \")\n",
    "    \n",
    "    # Count the number of words in the user input\n",
    "    word_count = count_words(user_input)\n",
    "    \n",
    "    # Print the word count\n",
    "    print(f\"The number of words in your text is: {word_count}\")\n",
    "\n",
    "# Check if the script is being run directly (and not imported as a module)\n",
    "if __name__ == \"__main__\":\n",
    "    main()\n"
   ]
  },
  {
   "cell_type": "code",
   "execution_count": 7,
   "id": "02a33e9d",
   "metadata": {},
   "outputs": [
    {
     "ename": "IndentationError",
     "evalue": "unindent does not match any outer indentation level (<tokenize>, line 43)",
     "output_type": "error",
     "traceback": [
      "\u001b[1;36m  File \u001b[1;32m<tokenize>:43\u001b[1;36m\u001b[0m\n\u001b[1;33m    while True:\u001b[0m\n\u001b[1;37m    ^\u001b[0m\n\u001b[1;31mIndentationError\u001b[0m\u001b[1;31m:\u001b[0m unindent does not match any outer indentation level\n"
     ]
    }
   ],
   "source": [
    "def calculator(**kwargs):\n",
    "    \"\"\"\n",
    "    Operations:\n",
    "    -addition\n",
    "    -substraction\n",
    "    -multiplication\n",
    "    -division\n",
    "\n",
    "    kwargs:\n",
    "    -operation: str : The operation to perform( 'add', 'subtract', 'multiply', 'divide')\n",
    "    -a: float: The first operand\n",
    "    -b: float: The second operand\n",
    "\n",
    "    Returns: \n",
    "    -result: float: The result of the arithmetic operation\n",
    "\n",
    "    Raises:\n",
    "    -ValueError: If and invalid operation is provided\n",
    "    -ZeroDivisionError: If division by zero is attempted.\n",
    "    \"\"\"\n",
    "    operation = kwargs.get('operation')\n",
    "    a = kwargs.get('a')\n",
    "    b = kwargs.get('b')\n",
    "\n",
    "    if operation not in ['add', 'subtract', 'multiply', 'divide']:\n",
    "        raise ValueError(\"Invalid operation. Supported operations: add, substract, multiply, divide\")\n",
    "        \n",
    "    if operation == 'add': \n",
    "        return a + b\n",
    "    elif operation == 'substract':\n",
    "        return a - b\n",
    "    elif operation == 'multiply':\n",
    "        return a * b\n",
    "    elif operation == 'divide':\n",
    "        if b == 0:\n",
    "            raise ZeroDivisionError(\"Cannot didide by zero\")\n",
    "        return a / b\n",
    "                \n",
    "def user_interface():\n",
    "    print(\"welcome to the calculator!\")\n",
    "    print(\"Available operations: add, substract, multiply, divide\")\n",
    "\n",
    "   while True: \n",
    "       operation = input(\"Enter the operation you want to perform:\").strip().lower()\n",
    "       if operation not in ['add', 'substract', 'multiply', 'divide']:\n",
    "           print(\"Invalid operation. Please try again.\")"
   ]
  },
  {
   "cell_type": "markdown",
   "id": "34c0207d-59d4-4d59-b467-2ba2880af90d",
   "metadata": {},
   "source": [
    "\n",
    "## Introduction\n",
    "Dear Students,\n",
    "\n",
    "I hope you are excited about applying your Python skills to a real-world project! For this week's assignment, you will work on a **Tiny Project in Python**. You can choose to create a simple calculator or come up with your own idea for a small Python project. This is a great opportunity to showcase your creativity and programming abilities.\n",
    "\n",
    "## Project Guidelines\n",
    "1. **Topic**: You have two options:\n",
    "    - **Option 1**: Create a simple calculator that can perform basic arithmetic operations like addition, subtraction, multiplication, and division using kwargs or args\n",
    "    - **Option 2**: Develop a custom project of your choice. It should be small in scope but demonstrate your understanding of Python programming.\n",
    "\n",
    "2. **Requirements**:\n",
    "    - Your code should be clean, well-commented, and easy to understand.\n",
    "    - If you choose a custom project, ensure it is feasible to complete within a week.\n",
    "    - Make sure to handle any possible errors or exceptions gracefully.\n",
    "\n",
    "3. **Submission Instructions**:\n",
    "    - **Create a GitHub Repository**: Name it `Tiny Project in Python--<Project Name>`.\n",
    "    - **Upload Your Code**: Push your project files to this repository.\n",
    "    - **Share the Link**: Email the link to your GitHub repository to my email address.\n",
    "\n",
    "4. **Deadline**: The project must be completed and the link emailed by this week Friday.\n",
    "\n",
    "## Steps to Upload to GitHub\n",
    "1. **Create a GitHub Account**: If you don't already have one, sign up at [GitHub](https://github.com).\n",
    "2. **Create a New Repository**:\n",
    "    - Click the \"+\" icon in the top right corner and select \"New repository\".\n",
    "    - Name your repository `Tiny Project in Python--<Project Name>`.\n",
    "    - Choose whether to make it public or private.\n",
    "    - Initialize with a README (optional).\n",
    "3. **Upload Your Files**:\n",
    "    - Clone your repository to your local machine.\n",
    "    - Add your project files to the repository folder.\n",
    "    - Commit and push your changes to GitHub.\n",
    "4. **Email the Link**: Copy the URL of your repository and send it to my email address.\n",
    "\n",
    "\n"
   ]
  }
 ],
 "metadata": {
  "kernelspec": {
   "display_name": "Python 3 (ipykernel)",
   "language": "python",
   "name": "python3"
  },
  "language_info": {
   "codemirror_mode": {
    "name": "ipython",
    "version": 3
   },
   "file_extension": ".py",
   "mimetype": "text/x-python",
   "name": "python",
   "nbconvert_exporter": "python",
   "pygments_lexer": "ipython3",
   "version": "3.11.7"
  }
 },
 "nbformat": 4,
 "nbformat_minor": 5
}
