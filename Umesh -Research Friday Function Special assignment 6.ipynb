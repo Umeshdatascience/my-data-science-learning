{
 "cells": [
  {
   "cell_type": "markdown",
   "id": "e59472d8",
   "metadata": {},
   "source": [
    "# Function\n",
    "\n",
    "### You need to have good understanding of the following topic. Once you do, then you are good with function foundation."
   ]
  },
  {
   "cell_type": "markdown",
   "id": "6afa6f10",
   "metadata": {},
   "source": [
    "## Functions:\n",
    "\n",
    "1. Definition and importance of functions in programming.\n",
    "2. How to define and call a function in Python.\n",
    "3. Examples of built-in functions and user-defined functions.\n",
    "\n",
    "\n",
    "## Global Variables:\n",
    "\n",
    "1. Definition of global variables.\n",
    "2. Scope of global variables.\n",
    "3. When to use global variables and their potential downsides.\n",
    "\n",
    "\n",
    "## Local Variables:\n",
    "\n",
    "1. Definition of local variables.\n",
    "2. Scope of local variables.\n",
    "3. The lifecycle of a local variable within a function.\n",
    "\n",
    "\n",
    "## Parameters and Arguments:\n",
    "\n",
    "1. Definition and difference between parameters and arguments.\n",
    "2. Types of arguments: positional arguments, keyword arguments, default arguments, and variable-length arguments.\n",
    "3. Passing arguments to functions.\n",
    "\n",
    "\n",
    "\n",
    "## Lambda Function\n",
    "1. Defination of Lamnda function\n",
    "2. Its namture\n",
    "3. How to use"
   ]
  },
  {
   "cell_type": "markdown",
   "id": "e989922c",
   "metadata": {},
   "source": [
    "--------\n",
    "# Study this code and answer the following"
   ]
  },
  {
   "cell_type": "code",
   "execution_count": 6,
   "id": "b0c7fc20",
   "metadata": {},
   "outputs": [
    {
     "name": "stdout",
     "output_type": "stream",
     "text": [
      "Inside the function:\n",
      "param1: Hello\n",
      "param2: World\n",
      "local_var: I am a local variable\n",
      "global_var: I am a global variable\n",
      "Outside the function:\n",
      "global_var: I am a global variable\n"
     ]
    }
   ],
   "source": [
    "\n",
    "global_var = \"I am a global variable\"\n",
    "\n",
    "def my_function(param1, param2):\n",
    "\n",
    "    local_var = \"I am a local variable\"\n",
    "    print(\"Inside the function:\")\n",
    "    print(\"param1:\", param1)\n",
    "    print(\"param2:\", param2)\n",
    "    print(\"local_var:\", local_var)\n",
    "    print(\"global_var:\", global_var)\n",
    "\n",
    "\n",
    "my_function(\"Hello\", \"World\")\n",
    "\n",
    "\n",
    "print(\"Outside the function:\")\n",
    "print(\"global_var:\", global_var)\n"
   ]
  },
  {
   "cell_type": "markdown",
   "id": "6ebed203",
   "metadata": {},
   "source": [
    "# Q1. What is the purpose of the \"my_function\" function in the provided code? "
   ]
  },
  {
   "cell_type": "code",
   "execution_count": 5,
   "id": "560f3071",
   "metadata": {},
   "outputs": [],
   "source": [
    "# Ans: \n",
    "it helps to use the local variables.\n",
    "\n",
    "\n"
   ]
  },
  {
   "cell_type": "markdown",
   "id": "bb7f5453",
   "metadata": {},
   "source": [
    "# Q2. Identify the global variable and Local varibale  in the code and explain its scope."
   ]
  },
  {
   "cell_type": "code",
   "execution_count": 7,
   "id": "38607ba5",
   "metadata": {},
   "outputs": [],
   "source": [
    "# Ans:\n",
    "Global variable is outside function ie 'global_var'and accessible from anywhere, including inside functions.\n",
    "Local variable is within the function 'my_function' and only accessible within the scope of funtion ie inside only. it doesnot exist outside.\n",
    "\n"
   ]
  },
  {
   "cell_type": "markdown",
   "id": "b0911720",
   "metadata": {},
   "source": [
    "# Q3. What are the parameters of the my_function function? How are they used within the function?\n"
   ]
  },
  {
   "cell_type": "code",
   "execution_count": 8,
   "id": "cd40abb9",
   "metadata": {},
   "outputs": [],
   "source": [
    "# Ans\n",
    "Parameters are 'param1' and 'param2'\n",
    "The parameters param1 and param2 are used to print their values within the function.\n",
    "\n"
   ]
  },
  {
   "cell_type": "markdown",
   "id": "57c0d4ba",
   "metadata": {},
   "source": [
    "# Q4: When the function my_function is called with the arguments \"Hello\" and \"World\", what values are assigned to param1 and param2?"
   ]
  },
  {
   "cell_type": "code",
   "execution_count": 9,
   "id": "9ef8e570",
   "metadata": {},
   "outputs": [],
   "source": [
    "# Ans:\n",
    "When my_function is called with \"Hello\" and \"World\":\n",
    "\n",
    "The first argument \"Hello\" is in palce of param1.\n",
    "The second argument \"World\" is in place of param2.\n"
   ]
  },
  {
   "cell_type": "markdown",
   "id": "b24670c4",
   "metadata": {},
   "source": [
    "# Q5: Modify the code to include a new local variable local_var2 within my_function and print its value inside the function.\n",
    "### You can add any value"
   ]
  },
  {
   "cell_type": "code",
   "execution_count": 1,
   "id": "b7e96f22",
   "metadata": {},
   "outputs": [
    {
     "name": "stdout",
     "output_type": "stream",
     "text": [
      "Inside the function:\n",
      "param1: Hello\n",
      "param2: World\n",
      "local_var: I am a local variable\n",
      "local_var2: I am next local variable\n",
      "global_var: I am a global variable\n",
      "Outside the function:\n",
      "global_var: I am a global variable\n"
     ]
    }
   ],
   "source": [
    "# Ans:\n",
    "global_var = \"I am a global variable\"  \n",
    "\n",
    "def my_function(param1, param2):\n",
    "    local_var = \"I am a local variable\" \n",
    "    local_var2 = \"I am next local variable\"  \n",
    "    print(\"Inside the function:\")\n",
    "    print(\"param1:\", param1)            \n",
    "    print(\"param2:\", param2)            \n",
    "    print(\"local_var:\", local_var)      \n",
    "    print(\"local_var2:\", local_var2)    \n",
    "    print(\"global_var:\", global_var)     \n",
    "\n",
    "my_function(\"Hello\", \"World\")  \n",
    "print(\"Outside the function:\")\n",
    "print(\"global_var:\", global_var) \n"
   ]
  },
  {
   "cell_type": "markdown",
   "id": "8e7ae6a3",
   "metadata": {},
   "source": [
    "# Q6: Modify the code to include a new local variable local_var2 within my_function and print its value inside the function."
   ]
  },
  {
   "cell_type": "code",
   "execution_count": 12,
   "id": "9c6750ad",
   "metadata": {},
   "outputs": [],
   "source": [
    "# Ans:\n",
    "same as question no 5.\n"
   ]
  },
  {
   "cell_type": "markdown",
   "id": "d0eb1586",
   "metadata": {},
   "source": [
    "# Q8: Complete the code for a Lambda function to fund the modulus of any two number\n",
    "\n",
    "You need to fill by replaceing <-- Fill in this part -->\n",
    "\n",
    "Example:\n",
    "```\n",
    "a = a + <-- Fill in this part -->\n",
    "```\n",
    "\n",
    "So I do as\n",
    "```\n",
    "a = a + b\n",
    "```\n"
   ]
  },
  {
   "cell_type": "code",
   "execution_count": 1,
   "id": "b040d9d4",
   "metadata": {},
   "outputs": [
    {
     "name": "stdout",
     "output_type": "stream",
     "text": [
      "Inside the function:\n",
      "param1: Hello\n",
      "param2: World\n",
      "local_var: I am a local variable\n",
      "global_var: Next global variable\n",
      "Outside the function:\n",
      "global_var: Next global variable\n"
     ]
    }
   ],
   "source": [
    "# Ans:\n",
    "global_var = \"I am a global variable\"\n",
    "\n",
    "def my_function(param1, param2):\n",
    "    global global_var\n",
    "    global_var = \"Next global variable\"\n",
    "    local_var = \"I am a local variable\"\n",
    "    print(\"Inside the function:\")\n",
    "    print(\"param1:\", param1)\n",
    "    print(\"param2:\", param2)\n",
    "    print(\"local_var:\", local_var)\n",
    "    print(\"global_var:\", global_var)\n",
    "\n",
    "my_function(\"Hello\", \"World\")\n",
    "\n",
    "print(\"Outside the function:\")\n",
    "print(\"global_var:\", global_var)\n",
    "\n"
   ]
  },
  {
   "cell_type": "code",
   "execution_count": null,
   "id": "d124eb7a",
   "metadata": {},
   "outputs": [],
   "source": [
    "# Lambda function to find the modulus of two numbers(x,y)\n",
    "modulus_lambda = lambda x, y: # x % y\n",
    "\n",
    "# Testing the lambda function with different pairs of numbers\n",
    "result1 = mudulus_lambda(10, 3)\n",
    "result2 = modulus_lambda(20, 7)\n",
    "result3 = modulus_lambda(15, 4)\n",
    "\n",
    "# Printing the results\n",
    "print(\"10 % 3 =\", result1)\n",
    "print(\"20 % 7 =\", result2)\n",
    "print(\"15 % 4 =\", result3)"
   ]
  },
  {
   "cell_type": "markdown",
   "id": "a1294671",
   "metadata": {},
   "source": [
    "## Take this quiz ans share you score as screenshot here\n"
   ]
  },
  {
   "cell_type": "markdown",
   "id": "f1217c0e",
   "metadata": {},
   "source": [
    "https://pynative.com/python-functions-quiz/"
   ]
  },
  {
   "cell_type": "code",
   "execution_count": 16,
   "id": "c5cb59c8",
   "metadata": {},
   "outputs": [],
   "source": [
    "#Screenshot here"
   ]
  },
  {
   "cell_type": "code",
   "execution_count": null,
   "id": "6d62ff3d",
   "metadata": {},
   "outputs": [],
   "source": []
  }
 ],
 "metadata": {
  "kernelspec": {
   "display_name": "Python 3 (ipykernel)",
   "language": "python",
   "name": "python3"
  },
  "language_info": {
   "codemirror_mode": {
    "name": "ipython",
    "version": 3
   },
   "file_extension": ".py",
   "mimetype": "text/x-python",
   "name": "python",
   "nbconvert_exporter": "python",
   "pygments_lexer": "ipython3",
   "version": "3.11.7"
  }
 },
 "nbformat": 4,
 "nbformat_minor": 5
}
