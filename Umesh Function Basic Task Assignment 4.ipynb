{
 "cells": [
  {
   "cell_type": "markdown",
   "id": "a63234cc",
   "metadata": {},
   "source": [
    "![img](https://ytu-cvlab.github.io/mce-51069/images/copied_from_nb/images/function.jpeg)"
   ]
  },
  {
   "cell_type": "markdown",
   "id": "0f0c84d1",
   "metadata": {},
   "source": [
    "# What is the Syntac of user-defined function?\n",
    "a user-defined function is created using the def keyword followed by the function name and parentheses, which include parameters.\n"
   ]
  },
  {
   "cell_type": "markdown",
   "id": "95a82df7",
   "metadata": {},
   "source": [
    "# Task 1: Define a Function"
   ]
  },
  {
   "cell_type": "code",
   "execution_count": null,
   "id": "102b3ecb",
   "metadata": {},
   "outputs": [],
   "source": [
    "# Define a function called `greet` that takes a single parameter `name`.\n",
    "# The purpose of this function is to print a greeting message that says \"Hello, [name]!\".\n",
    "# For example, calling greet(\"Alice\") should output \"Hello, Alice!\"."
   ]
  },
  {
   "cell_type": "code",
   "execution_count": null,
   "id": "902c8d46",
   "metadata": {},
   "outputs": [],
   "source": [
    "#A function is created using the def keyword followed by the function name and parentheses, which include parameters.\n",
    "def greet(name):\n",
    "    print(f\"hello, {name}\")\n",
    "\n",
    "\n",
    "\n",
    "\n",
    "\n",
    "\n"
   ]
  },
  {
   "cell_type": "markdown",
   "id": "691a4aa0",
   "metadata": {},
   "source": [
    "# Task 2: Call the Function"
   ]
  },
  {
   "cell_type": "code",
   "execution_count": 1,
   "id": "8db69a6b",
   "metadata": {},
   "outputs": [],
   "source": [
    "# After defining the function, call it with different names to see the output.\n",
    "# You should call the function at least three times with different names"
   ]
  },
  {
   "cell_type": "code",
   "execution_count": 14,
   "id": "4dcb10ba",
   "metadata": {},
   "outputs": [
    {
     "name": "stdout",
     "output_type": "stream",
     "text": [
      "hello, malasir\n",
      "hello, prashant\n",
      "hello, bijaya\n",
      "hello, ujjwal\n",
      "hello, rajan\n",
      "hello, divyam\n"
     ]
    }
   ],
   "source": [
    "def greet(name):\n",
    "    print(f\"hello, {name}\")   #call the function\n",
    "\n",
    "greet(\"malasir\")\n",
    "greet(\"prashant\")\n",
    "greet(\"bijaya\")\n",
    "greet(\"ujjwal\")\n",
    "greet(\"rajan\")\n",
    "greet(\"divyam\")\n",
    "\n",
    "\n",
    "\n",
    "\n"
   ]
  },
  {
   "cell_type": "markdown",
   "id": "ba477a96",
   "metadata": {},
   "source": [
    "# Task 3: Experiment with Different Inputs"
   ]
  },
  {
   "cell_type": "code",
   "execution_count": 18,
   "id": "2f3d4ca0",
   "metadata": {},
   "outputs": [
    {
     "name": "stdout",
     "output_type": "stream",
     "text": [
      "hello, malasir\n",
      "hello, \n",
      "hello, @\n",
      "hello, 2\n"
     ]
    }
   ],
   "source": [
    "# Try calling the `greet` function with different types of inputs: \n",
    "# and observe and note down what happens with each type of input.\n",
    "\n",
    "\n",
    "# - A string with a different name (e.g., greet(\"Dave\"))\n",
    "greet(\"malasir\")   #the function prints 'hello, malasir'.\n",
    "\n",
    "\n",
    "# - An empty string (e.g., greet(\"\"))\n",
    "greet(\"\")    #the function prints 'hello,'.\n",
    "\n",
    "\n",
    "# - A string with special characters (e.g., greet(\"!@#\"))\n",
    "greet(\"@\")    #the function prints 'hello, @'.\n",
    "\n",
    "# - A non-string input (e.g., greet(123))\n",
    "greet(2)     #the function prints 'hello,2'.\n",
    "\n"
   ]
  },
  {
   "cell_type": "markdown",
   "id": "760f2010",
   "metadata": {},
   "source": [
    "# Write down your observations on how the `greet` function behaves with different inputs.\n",
    "When called with a string i.e greet(\"malasir\"), the function prints \"Hello, malasir\".\n",
    "When called with an empty string i.e greet(\"\"), the function prints \"Hello,\" showing that it is incomplete.\n",
    "When called with a string containing special characters i.e greet(\"@\"), the function prints \"Hello, @\" that means it can tackle with special characters too.\n",
    "When called with a non-string input i.e greet(2), the function prints \"Hello, 2\". This shows that the function converts non-string inputs to strings for the greeting.\n",
    "\n",
    "# Understanding of Functions\n",
    "Functions are reusable of code designed to perform a specific task. They take inputs called parameters, execute a series of statements, and can return a result. Functions help in organizing code, making it more modular and readable. \n",
    "\n",
    "# and write in paragraph about what you undestood about function\n",
    "A function in Python is a reusable block of code that performs a specific task, defined using the def keyword, and can accept parameters and return a result."
   ]
  },
  {
   "cell_type": "code",
   "execution_count": null,
   "id": "f773705e",
   "metadata": {},
   "outputs": [],
   "source": []
  }
 ],
 "metadata": {
  "kernelspec": {
   "display_name": "Python 3 (ipykernel)",
   "language": "python",
   "name": "python3"
  },
  "language_info": {
   "codemirror_mode": {
    "name": "ipython",
    "version": 3
   },
   "file_extension": ".py",
   "mimetype": "text/x-python",
   "name": "python",
   "nbconvert_exporter": "python",
   "pygments_lexer": "ipython3",
   "version": "3.11.7"
  }
 },
 "nbformat": 4,
 "nbformat_minor": 5
}
